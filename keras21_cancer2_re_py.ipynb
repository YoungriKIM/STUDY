{
  "nbformat": 4,
  "nbformat_minor": 0,
  "metadata": {
    "colab": {
      "name": "keras21_cancer2_re.py",
      "provenance": [],
      "collapsed_sections": [],
      "authorship_tag": "ABX9TyNl9qgGbr2YeBbPmUuxi1EG",
      "include_colab_link": true
    },
    "kernelspec": {
      "name": "python3",
      "display_name": "Python 3"
    }
  },
  "cells": [
    {
      "cell_type": "markdown",
      "metadata": {
        "id": "view-in-github",
        "colab_type": "text"
      },
      "source": [
        "<a href=\"https://colab.research.google.com/github/YoungriKIM/STUDY/blob/master/keras21_cancer2_re_py.ipynb\" target=\"_parent\"><img src=\"https://colab.research.google.com/assets/colab-badge.svg\" alt=\"Open In Colab\"/></a>"
      ]
    },
    {
      "cell_type": "code",
      "metadata": {
        "colab": {
          "base_uri": "https://localhost:8080/"
        },
        "id": "6_pPZhkioq7n",
        "outputId": "bb0617b2-2d2c-4f92-c90f-f03785575e9d"
      },
      "source": [
        "import numpy as np\r\n",
        "from tensorflow.keras.models import Sequential, Model\r\n",
        "from tensorflow.keras.layers import Dense, Input\r\n",
        "\r\n",
        "#1. 데이터 주고\r\n",
        "from sklearn.datasets import load_breast_cancer\r\n",
        "dataset = load_breast_cancer()\r\n",
        "x = dataset.data\r\n",
        "y = dataset.target\r\n",
        "\r\n",
        "# print(x.shape, y.shape) #(569, 30) (569,)\r\n",
        "# print('x[:5]: ',x[:5]) #전처리가 안 되어있음\r\n",
        "# print('y: ',y) #값이 0과 1로 이진분류임\r\n",
        "\r\n",
        "#전처리(y벡터화, 트레인테스트나누기, 민맥스스케일러)\r\n",
        "from tensorflow.keras.utils import to_categorical\r\n",
        "y = to_categorical(y)\r\n",
        "\r\n",
        "from sklearn.model_selection import train_test_split\r\n",
        "x_train, x_test, y_train, y_test = train_test_split(x, y, train_size=0.8, shuffle=True, random_state=33)\r\n",
        "\r\n",
        "from sklearn.model_selection import train_test_split\r\n",
        "x_train, x_val, y_train, y_val = train_test_split(x_train, y_train, test_size=0.2, shuffle=True, random_state=33)\r\n",
        "\r\n",
        "from sklearn.preprocessing import MinMaxScaler\r\n",
        "scaler = MinMaxScaler()\r\n",
        "scaler.fit(x_train)\r\n",
        "x_train = scaler.transform(x_train)\r\n",
        "x_val = scaler.transform(x_val)\r\n",
        "x_test = scaler.transform(x_test)\r\n",
        "\r\n",
        "#모델 구성\r\n",
        "input1 = Input(shape=(30,))\r\n",
        "dense1 = Dense(120, activation='relu')(input1)\r\n",
        "dense1 = Dense(120)(dense1)\r\n",
        "dense1 = Dense(60)(dense1)\r\n",
        "dense1 = Dense(60)(dense1)\r\n",
        "dense1 = Dense(60)(dense1)\r\n",
        "output1 = Dense(2, activation='sigmoid')(dense1)\r\n",
        "model = Model(inputs = input1, outputs = output1)\r\n",
        "\r\n",
        "#컴파일, 훈련\r\n",
        "model.compile(loss='binary_crossentropy', optimizer='adam', metrics=['acc'])\r\n",
        "\r\n",
        "from tensorflow.keras.callbacks import EarlyStopping\r\n",
        "stop = EarlyStopping(monitor='loss', patience=20, mode='min')\r\n",
        "model.fit(x_train, y_train, epochs=10, batch_size=30, validation_data=(x_val, y_val), verbose=2, callbacks=[stop])\r\n",
        "\r\n",
        "#검증, 예측\r\n",
        "loss = model.evaluate(x_test, y_test, batch_size=10)\r\n",
        "print('loss: ', loss)\r\n",
        "\r\n",
        "y_predict = model.predict(x_test[-5:-1])\r\n",
        "print('y_predict: ', y_predict.argmax(axis=1))\r\n",
        "\r\n",
        "# print(y_test[-5:-1].shape) #(4,2)\r\n",
        "\r\n",
        "print('y_test[-5:-1]: ',y_test[-5:-1])"
      ],
      "execution_count": 75,
      "outputs": [
        {
          "output_type": "stream",
          "text": [
            "Epoch 1/10\n",
            "13/13 - 1s - loss: 0.5902 - acc: 0.7775 - val_loss: 0.4099 - val_acc: 0.9011\n",
            "Epoch 2/10\n",
            "13/13 - 0s - loss: 0.3234 - acc: 0.8846 - val_loss: 0.1451 - val_acc: 0.9670\n",
            "Epoch 3/10\n",
            "13/13 - 0s - loss: 0.2073 - acc: 0.9121 - val_loss: 0.0903 - val_acc: 0.9560\n",
            "Epoch 4/10\n",
            "13/13 - 0s - loss: 0.1301 - acc: 0.9451 - val_loss: 0.0847 - val_acc: 0.9451\n",
            "Epoch 5/10\n",
            "13/13 - 0s - loss: 0.1263 - acc: 0.9396 - val_loss: 0.0676 - val_acc: 0.9560\n",
            "Epoch 6/10\n",
            "13/13 - 0s - loss: 0.0947 - acc: 0.9643 - val_loss: 0.0661 - val_acc: 0.9670\n",
            "Epoch 7/10\n",
            "13/13 - 0s - loss: 0.0794 - acc: 0.9698 - val_loss: 0.0524 - val_acc: 0.9670\n",
            "Epoch 8/10\n",
            "13/13 - 0s - loss: 0.0645 - acc: 0.9780 - val_loss: 0.0514 - val_acc: 0.9780\n",
            "Epoch 9/10\n",
            "13/13 - 0s - loss: 0.0648 - acc: 0.9753 - val_loss: 0.0762 - val_acc: 0.9780\n",
            "Epoch 10/10\n",
            "13/13 - 0s - loss: 0.1021 - acc: 0.9615 - val_loss: 0.0603 - val_acc: 0.9890\n",
            "12/12 [==============================] - 0s 1ms/step - loss: 0.0965 - acc: 0.9737\n",
            "loss:  [0.09645263850688934, 0.9736841917037964]\n",
            "WARNING:tensorflow:10 out of the last 11 calls to <function Model.make_predict_function.<locals>.predict_function at 0x7f27df9d5488> triggered tf.function retracing. Tracing is expensive and the excessive number of tracings could be due to (1) creating @tf.function repeatedly in a loop, (2) passing tensors with different shapes, (3) passing Python objects instead of tensors. For (1), please define your @tf.function outside of the loop. For (2), @tf.function has experimental_relax_shapes=True option that relaxes argument shapes that can avoid unnecessary retracing. For (3), please refer to https://www.tensorflow.org/guide/function#controlling_retracing and https://www.tensorflow.org/api_docs/python/tf/function for  more details.\n",
            "y_predict:  [0 1 0 1]\n",
            "(4, 2)\n",
            "y_test[-5:-1]:  [[1. 0.]\n",
            " [0. 1.]\n",
            " [1. 0.]\n",
            " [0. 1.]]\n"
          ],
          "name": "stdout"
        }
      ]
    }
  ]
}