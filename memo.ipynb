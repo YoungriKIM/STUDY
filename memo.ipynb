{
 "cells": [
  {
   "cell_type": "code",
   "execution_count": 1,
   "metadata": {},
   "outputs": [
    {
     "name": "stdout",
     "output_type": "stream",
     "text": [
      "a\n",
      "0\n",
      "b\n",
      "1\n",
      "c\n",
      "2\n"
     ]
    }
   ],
   "source": [
    "list = ['a','b','c']\n",
    "count = 0\n",
    "for i in list:\n",
    "    print(i)\n",
    "    print(count)\n",
    "    count+=1"
   ]
  }
 ],
 "metadata": {
  "interpreter": {
   "hash": "4a85d2c43638ccf95648bab5231266d73e892ff3ae93bbec73cabdbffc84596f"
  },
  "kernelspec": {
   "display_name": "Python 3.7.11 64-bit ('kowikienv': conda)",
   "language": "python",
   "name": "python3"
  },
  "language_info": {
   "codemirror_mode": {
    "name": "ipython",
    "version": 3
   },
   "file_extension": ".py",
   "mimetype": "text/x-python",
   "name": "python",
   "nbconvert_exporter": "python",
   "pygments_lexer": "ipython3",
   "version": "3.7.11"
  },
  "orig_nbformat": 4
 },
 "nbformat": 4,
 "nbformat_minor": 2
}
