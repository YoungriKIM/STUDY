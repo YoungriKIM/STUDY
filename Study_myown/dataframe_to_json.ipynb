{
 "cells": [
  {
   "cell_type": "code",
   "execution_count": 2,
   "metadata": {},
   "outputs": [],
   "source": [
    "# 모델 검정이나 시간 측정시 json 파일을 사용한 경우가 있어,\n",
    "# 데이터셋을 json으로 저장하는 과정을 기록합니다."
   ]
  },
  {
   "cell_type": "code",
   "execution_count": 1,
   "metadata": {},
   "outputs": [
    {
     "name": "stderr",
     "output_type": "stream",
     "text": [
      "/ntdev/youngri/YR_LAB/env/yr3.7/lib/python3.7/site-packages/pandas/compat/__init__.py:124: UserWarning: Could not import the lzma module. Your installed Python is incomplete. Attempting to use lzma compression will result in a RuntimeError.\n",
      "  warnings.warn(msg)\n"
     ]
    }
   ],
   "source": [
    "import pandas as pd\n",
    "import json\n",
    "from collections import OrderedDict\n",
    "\n",
    "test_json = OrderedDict()"
   ]
  },
  {
   "cell_type": "code",
   "execution_count": 2,
   "metadata": {},
   "outputs": [],
   "source": [
    "import pandas as pd\n",
    "df = pd.DataFrame({'name':['카카','엄냐','별이','휴르','콩이', '루비'],'cnt':[87, 20, 51, 49, 30, 8]})"
   ]
  },
  {
   "cell_type": "code",
   "execution_count": 3,
   "metadata": {},
   "outputs": [
    {
     "data": {
      "text/plain": [
       "{'1': {'name': '카카', 'cnt': '87'},\n",
       " '2': {'name': '엄냐', 'cnt': '20'},\n",
       " '3': {'name': '별이', 'cnt': '51'},\n",
       " '4': {'name': '휴르', 'cnt': '49'},\n",
       " '5': {'name': '콩이', 'cnt': '30'},\n",
       " '6': {'name': '루비', 'cnt': '8'}}"
      ]
     },
     "execution_count": 3,
     "metadata": {},
     "output_type": "execute_result"
    }
   ],
   "source": [
    "test_dict = {}\n",
    "for i in range(len(df)):\n",
    "    test_dict[str(i+1)] = dict({'name':df.iloc[i][0],'cnt':str(df.iloc[i][1])})\n",
    "test_dict"
   ]
  },
  {
   "cell_type": "code",
   "execution_count": 6,
   "metadata": {},
   "outputs": [
    {
     "name": "stdout",
     "output_type": "stream",
     "text": [
      "--save done--\n"
     ]
    }
   ],
   "source": [
    "save_path = 'test.json'\n",
    "with open(save_path, 'w', encoding='utf-8') as f:\n",
    "    json.dump(test_dict, f, ensure_ascii=False, indent='\\t')\n",
    "print('--save done--')"
   ]
  }
 ],
 "metadata": {
  "interpreter": {
   "hash": "234dabe8e40c2039a03253ecba783ebfe49b2278b634949a7dde498a3c83abe1"
  },
  "kernelspec": {
   "display_name": "Python 3.7.5 ('yr3.7')",
   "language": "python",
   "name": "python3"
  },
  "language_info": {
   "codemirror_mode": {
    "name": "ipython",
    "version": 3
   },
   "file_extension": ".py",
   "mimetype": "text/x-python",
   "name": "python",
   "nbconvert_exporter": "python",
   "pygments_lexer": "ipython3",
   "version": "3.7.5"
  },
  "orig_nbformat": 4
 },
 "nbformat": 4,
 "nbformat_minor": 2
}
