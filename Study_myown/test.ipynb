{
 "cells": [
  {
   "cell_type": "code",
   "execution_count": 2,
   "metadata": {},
   "outputs": [],
   "source": [
    "import random"
   ]
  },
  {
   "cell_type": "code",
   "execution_count": 13,
   "metadata": {},
   "outputs": [
    {
     "data": {
      "text/plain": [
       "('[1, 4, 3, 5, 2]', '[5, 2, 1, 4, 3]')"
      ]
     },
     "execution_count": 13,
     "metadata": {},
     "output_type": "execute_result"
    }
   ],
   "source": [
    "# seg_annotator / seg_confirmer_id ------------------------------------------------------------\n",
    "\n",
    "# seg_annotator_id 원하는 범위 (시작과 끝의 차이가 5 이상이어야 합니다.)\n",
    "seg_annotator_id_s, seg_annotator_id_e = 1, 6\n",
    "# seg_confirmer_id 원하는 범위  (시작과 끝의 차이가 5 이상이어야 합니다.)\n",
    "seg_confirmer_id_s, seg_confirmer_id_e = 1, 6\n",
    "\n",
    "seg_annotator_id = str(random.sample(range(seg_annotator_id_s, seg_annotator_id_e), 5))\n",
    "seg_confirmer_id = str(random.sample(range(seg_confirmer_id_s, seg_confirmer_id_e ), 5))\n"
   ]
  }
 ],
 "metadata": {
  "kernelspec": {
   "display_name": "Python 3.8.8 ('base')",
   "language": "python",
   "name": "python3"
  },
  "language_info": {
   "codemirror_mode": {
    "name": "ipython",
    "version": 3
   },
   "file_extension": ".py",
   "mimetype": "text/x-python",
   "name": "python",
   "nbconvert_exporter": "python",
   "pygments_lexer": "ipython3",
   "version": "3.8.8"
  },
  "orig_nbformat": 4,
  "vscode": {
   "interpreter": {
    "hash": "6fadacfa025e07eb4c77286e29c2bec792c48bf5a1043e26a91e9ebde8011997"
   }
  }
 },
 "nbformat": 4,
 "nbformat_minor": 2
}
