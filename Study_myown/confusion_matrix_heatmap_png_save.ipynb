{
 "cells": [
  {
   "cell_type": "code",
   "execution_count": null,
   "metadata": {},
   "outputs": [],
   "source": [
    "import numpy as np\n",
    "from sklearn.metrics import confusion_matrix\n",
    "import seaborn as sns\n",
    "\n",
    "# 임의의 값 지정\n",
    "test_y = [1,2,1,1,3,2,3]\n",
    "pred_y = [1,1,2,1,3,2,3]\n",
    "labels = np.unique(test_y)\n",
    "\n",
    "# seaborn 사이즈, 흰 배경 지정\n",
    "sns.set(rc={'figure.figsize':(8,8), 'figure.facecolor':'white'})\n",
    "\n",
    "#cf matrix 생성\n",
    "cf_matrix = confusion_matrix(test_y, pred_y)\n",
    "\n",
    "# 히트맵으로 그리기\n",
    "sns.heatmap(cf_matrix/np.sum(cf_matrix) # 값을 퍼센트로 변환\n",
    "            , annot=True    # 각 셀위에 정보 표시 여부\n",
    "            , fmt='.2%' # 소수점 두자리까지 나오게 포맷팅\n",
    "            , cmap='Blues'  # 색상\n",
    "            , xticklabels=labels # x축\n",
    "            , yticklabels=labels)    # y축\n",
    "\n",
    "# sns히트맵 png로 저장하기\n",
    "results_path = 'heatmap_test.png'\n",
    "plt.savefig(results_path)"
   ]
  }
 ],
 "metadata": {
  "language_info": {
   "name": "python"
  },
  "orig_nbformat": 4
 },
 "nbformat": 4,
 "nbformat_minor": 2
}
