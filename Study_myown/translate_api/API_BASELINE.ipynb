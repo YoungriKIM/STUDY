{
 "cells": [
  {
   "cell_type": "code",
   "execution_count": null,
   "metadata": {},
   "outputs": [],
   "source": [
    "from google.colab import drive \n",
    "drive.mount('/content/drive')\n",
    "\n",
    "!pip install --upgrade google-cloud-translate #구글 api v2를 사용하기 위해 진행하는 install\n",
    "\n",
    "from pathlib import Path #구글 스프레드 시트나 파일 읽어 올 때 path를 이용하는 경우에 사용하는 함수\n",
    "import pandas as pd \n",
    "\n",
    "from google.colab import auth # Google Drive와Colab에 연결하기위한 방법\n",
    "auth.authenticate_user()\n",
    "\n",
    "import gspread #구글 스프레드 시트 가져오기 위해 필요한 함수\n",
    "from google.auth import default #구글 자격증명을 위한 코드1\n",
    "\n",
    "# from google.cloud import translate_v2 as translate\n",
    "import os\n",
    "import json\n",
    "\n",
    "creds, _ = default() #구글 자격증명을 위한 코드2\n",
    "gc = gspread.authorize(creds) #구글 자격증명을 위한 코드3"
   ]
  },
  {
   "cell_type": "code",
   "execution_count": null,
   "metadata": {},
   "outputs": [],
   "source": [
    "from google.cloud import translate_v2 as translate\n",
    "os.environ['GOOGLE_APPLICATION_CREDENTIALS'] = \"/content/drive/MyDrive/1-3/번역API/nia-translate-364510-7fc2b83a1ff4.json\"\n",
    "\n",
    "client = translate.Client()"
   ]
  },
  {
   "cell_type": "code",
   "execution_count": null,
   "metadata": {},
   "outputs": [],
   "source": [
    "sentence = '번역 API 호출을 위한 베이스라인 코드입니다.'\n",
    "client.translate(sentence, target_language=\"en\")"
   ]
  }
 ],
 "metadata": {
  "language_info": {
   "name": "python"
  },
  "orig_nbformat": 4
 },
 "nbformat": 4,
 "nbformat_minor": 2
}
