{
 "cells": [
  {
   "cell_type": "markdown",
   "metadata": {},
   "source": [
    "외부에서 우선 패키지를 파일로 다운로드\n",
    "pip download -d ./ seaborn==0.11.2\n",
    "\n",
    "-> 의존성있는 다른 패키지까지 다운 받아진다\n",
    "-> 파일을 내부에 반입\n",
    "\n",
    "pip install --no-index --find-links=./ seaborn==0.11.2\n",
    "내부망에서 패키지를 다운"
   ]
  }
 ],
 "metadata": {
  "language_info": {
   "name": "python"
  },
  "orig_nbformat": 4
 },
 "nbformat": 4,
 "nbformat_minor": 2
}
