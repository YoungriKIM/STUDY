{
 "cells": [
  {
   "cell_type": "code",
   "execution_count": null,
   "metadata": {},
   "outputs": [],
   "source": [
    "# 주피터에서 시스템으로 명령어 보내기\n",
    "import os\n",
    "command = 'sox -L -c {} -e signed -b 16 -t raw -r 44100 {} -c 1 -e signed -b 16 -t wav -r 22050 {}'.format(file_dim, file_root+file_list[file_nb], save_path+file_list[file_nb])\n",
    "os.system(command)"
   ]
  }
 ],
 "metadata": {
  "language_info": {
   "name": "python"
  },
  "orig_nbformat": 4
 },
 "nbformat": 4,
 "nbformat_minor": 2
}
