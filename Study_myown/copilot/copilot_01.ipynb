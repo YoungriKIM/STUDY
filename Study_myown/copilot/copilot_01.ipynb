{
 "cells": [
  {
   "cell_type": "code",
   "execution_count": null,
   "metadata": {},
   "outputs": [],
   "source": [
    "# 특수문자 제거\n",
    "import re\n",
    "\n",
    "def remove_special_char(text):\n",
    "    text = re.sub('[^A-Za-z0-9가-힣 ]', '', text)\n",
    "    return text\n"
   ]
  },
  {
   "cell_type": "code",
   "execution_count": 1,
   "metadata": {},
   "outputs": [],
   "source": [
    "import time\n",
    "import datetime\n",
    "import os\n",
    "import sys\n",
    "import subprocess\n",
    "import re\n",
    "import json"
   ]
  },
  {
   "cell_type": "code",
   "execution_count": 2,
   "metadata": {},
   "outputs": [],
   "source": [
    "# get time now\n",
    "def get_time_now():\n",
    "    now = datetime.datetime.now()\n",
    "    return now.strftime(\"%Y-%m-%d %H:%M:%S\")    "
   ]
  },
  {
   "cell_type": "code",
   "execution_count": 3,
   "metadata": {},
   "outputs": [],
   "source": [
    "# make 4 digit number\n",
    "def make_4digit(num):\n",
    "    if num < 10:\n",
    "        return \"000\" + str(num)\n",
    "    elif num < 100:\n",
    "        return \"00\" + str(num)\n",
    "    elif num < 1000:\n",
    "        return \"0\" + str(num)\n",
    "    else:\n",
    "        return str(num)"
   ]
  },
  {
   "cell_type": "code",
   "execution_count": 4,
   "metadata": {},
   "outputs": [],
   "source": [
    "# get file list in directory\n",
    "def get_file_list(dir_path):\n",
    "    file_list = []\n",
    "    for root, dirs, files in os.walk(dir_path):\n",
    "        for file in files:\n",
    "            file_list.append(file)\n",
    "    return file_list"
   ]
  },
  {
   "cell_type": "code",
   "execution_count": 5,
   "metadata": {},
   "outputs": [],
   "source": [
    "# 숫자 앞에 0 두개 넣기\n",
    "def make_2digit(num):\n",
    "    if num < 10:\n",
    "        return \"0\" + str(num)\n",
    "    else:\n",
    "        return str(num)\n",
    "\n",
    "# 숫자 앞에 0 넣기\n",
    "def make_1digit(num):\n",
    "    if num < 10:\n",
    "        return \"0\" + str(num)\n",
    "    else:\n",
    "        return str(num)"
   ]
  },
  {
   "cell_type": "code",
   "execution_count": 6,
   "metadata": {},
   "outputs": [],
   "source": [
    "# cv2 image to base64\n",
    "def cv2_to_base64(image):\n",
    "    import cv2\n",
    "    import base64\n",
    "    retval, buffer = cv2.imencode('.jpg', image)\n",
    "    jpg_as_text = base64.b64encode(buffer)\n",
    "    return jpg_as_text\n"
   ]
  },
  {
   "cell_type": "code",
   "execution_count": null,
   "metadata": {},
   "outputs": [],
   "source": [
    "# resize image\n",
    "import cv2\n",
    "\n",
    "def resize_image(image, width=None, height=None, inter=cv2.INTER_AREA):\n",
    "    dim = None\n",
    "    (h, w) = image.shape[:2]\n",
    "    if width is None and height is None:\n",
    "        return image\n",
    "    if width is None:\n",
    "        r = height / float(h)\n",
    "        dim = (int(w * r), height)\n",
    "    else:\n",
    "        r = width / float(w)\n",
    "        dim = (width, int(h * r))\n",
    "    resized = cv2.resize(image, dim, interpolation=inter)\n",
    "    return resized"
   ]
  },
  {
   "cell_type": "code",
   "execution_count": 1,
   "metadata": {},
   "outputs": [
    {
     "data": {
      "text/plain": [
       "'이건 몰랐지 뿌엥'"
      ]
     },
     "execution_count": 1,
     "metadata": {},
     "output_type": "execute_result"
    }
   ],
   "source": [
    "import re\n",
    "\n",
    "# 특수문자 제거\n",
    "def remove_special_char(text):\n",
    "    text = re.sub('[^A-Za-z0-9가-힣 ]', '', text)\n",
    "    return text\n",
    "\n",
    "\n",
    "remove_special_char('%%이건 몰랐지~~ 뿌엥~!')"
   ]
  },
  {
   "cell_type": "code",
   "execution_count": 3,
   "metadata": {},
   "outputs": [
    {
     "data": {
      "text/plain": [
       "'마침표를 써가지고 말을 그냥 아저씨잖아 '"
      ]
     },
     "execution_count": 3,
     "metadata": {},
     "output_type": "execute_result"
    }
   ],
   "source": [
    "# 마침표 없애기\n",
    "def remove_dot(text):\n",
    "    text = re.sub('[.]', '', text)\n",
    "    return text\n",
    "\n",
    "remove_dot('마침표를. 써가지고. 말을. 그냥. 아저씨잖아. ')"
   ]
  },
  {
   "cell_type": "code",
   "execution_count": 6,
   "metadata": {},
   "outputs": [
    {
     "data": {
      "text/plain": [
       "'2022-09-29'"
      ]
     },
     "execution_count": 6,
     "metadata": {},
     "output_type": "execute_result"
    }
   ],
   "source": [
    "# get today\n",
    "import datetime\n",
    "\n",
    "def get_today():\n",
    "    today = datetime.datetime.now()\n",
    "    return today.strftime(\"%Y-%m-%d\")\n",
    "\n",
    "get_today()"
   ]
  },
  {
   "cell_type": "code",
   "execution_count": 8,
   "metadata": {},
   "outputs": [
    {
     "data": {
      "text/plain": [
       "'😿'"
      ]
     },
     "execution_count": 8,
     "metadata": {},
     "output_type": "execute_result"
    }
   ],
   "source": [
    "# make cat emoji\n",
    "def make_cat_emoji():\n",
    "    import random\n",
    "    cat_emoji = ['😺', '😸', '😹', '😻', '😼', '😽', '🙀', '😿', '😾']\n",
    "    return random.choice(cat_emoji)\n",
    "\n",
    "make_cat_emoji()"
   ]
  }
 ],
 "metadata": {
  "kernelspec": {
   "display_name": "Python 3.8.8 ('base')",
   "language": "python",
   "name": "python3"
  },
  "language_info": {
   "codemirror_mode": {
    "name": "ipython",
    "version": 3
   },
   "file_extension": ".py",
   "mimetype": "text/x-python",
   "name": "python",
   "nbconvert_exporter": "python",
   "pygments_lexer": "ipython3",
   "version": "3.8.8"
  },
  "orig_nbformat": 4,
  "vscode": {
   "interpreter": {
    "hash": "6fadacfa025e07eb4c77286e29c2bec792c48bf5a1043e26a91e9ebde8011997"
   }
  }
 },
 "nbformat": 4,
 "nbformat_minor": 2
}
