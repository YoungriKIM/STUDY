{
 "cells": [
  {
   "cell_type": "markdown",
   "metadata": {},
   "source": [
    "linestyle에 앞의 이름을 적거나 뒤의 기호를 넣을 수 있다.\n",
    "\n",
    "1. solid   |   '-'\n",
    "2. dashed   |   '—'\n",
    "3. dashdot   |   '-.'\n",
    "4. dotted   |   ':'"
   ]
  },
  {
   "cell_type": "code",
   "execution_count": null,
   "metadata": {},
   "outputs": [],
   "source": [
    "https://codetorial.net/matplotlib/set_color.html"
   ]
  }
 ],
 "metadata": {
  "language_info": {
   "name": "python"
  },
  "orig_nbformat": 4
 },
 "nbformat": 4,
 "nbformat_minor": 2
}
