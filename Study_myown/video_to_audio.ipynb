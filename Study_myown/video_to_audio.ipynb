{
 "cells": [
  {
   "cell_type": "code",
   "execution_count": 1,
   "metadata": {},
   "outputs": [],
   "source": [
    "# 유튜브 링크로 음성만 따오기\n",
    "# https://youtu.be/NWujKckRCII :: 65~83초\n",
    "# pip3.6 install pytube3\n",
    "# pip3.6 install -U pytube\n",
    "# ~/가상환경/lib64/python3.6/site-packages/pytube/cipher.py 가서\n",
    "# var_regex = re.compile(r\"^\\$*\\w+\\W\") 으로 수정해야 함"
   ]
  },
  {
   "cell_type": "code",
   "execution_count": 8,
   "metadata": {},
   "outputs": [],
   "source": [
    "from pytube import YouTube\n",
    "import glob\n",
    "import os\n",
    "\n",
    "selected_video = YouTube('https://youtu.be/NWujKckRCII')\n",
    "audio = selected_video.streams.filter(only_audio=True, file_extension='mp4').first().download('/youtube_video/')\n",
    "\n",
    "# 확장자 변경\n",
    "files = glob.glob(\"youtube_video/*.mp4\")\n",
    "for x in files:\n",
    "\tif not os.path.isdir(x):\n",
    "\t\tfilename = os.path.splitext(x)\n",
    "\t\ttry:\n",
    "\t\t\tos.rename(x,filename[0] + '.mp3')\n",
    "\t\texcept:\n",
    "\t\t\tpass\n",
    "\n",
    "# 아래로 이름 바꿈\n",
    "# /youtube_video/son_sample.mp3"
   ]
  },
  {
   "cell_type": "code",
   "execution_count": 3,
   "metadata": {},
   "outputs": [],
   "source": [
    "# 오디오 자르고 mono, 22050 으로 변환\n",
    "import librosa\n",
    "son_path = '/youtube_video/son_sample.mp3'\n",
    "y, sr = librosa.load(son_path, sr=22050)"
   ]
  },
  {
   "cell_type": "code",
   "execution_count": 5,
   "metadata": {},
   "outputs": [],
   "source": [
    "st, ed = 66, 83\n",
    "y_trim = y[st*22050:ed*22050]\n",
    "librosa.output.write_wav('son_sample_trim.wav', y_trim, 22050)"
   ]
  }
 ],
 "metadata": {
  "interpreter": {
   "hash": "1f2a19f754ff48258830ae2c2c263312c5191b52b7cc4019f1cae994aa073328"
  },
  "kernelspec": {
   "display_name": "Python 3.6.8 ('yr_tts_3.6': venv)",
   "language": "python",
   "name": "python3"
  },
  "language_info": {
   "codemirror_mode": {
    "name": "ipython",
    "version": 3
   },
   "file_extension": ".py",
   "mimetype": "text/x-python",
   "name": "python",
   "nbconvert_exporter": "python",
   "pygments_lexer": "ipython3",
   "version": "3.6.8"
  },
  "orig_nbformat": 4
 },
 "nbformat": 4,
 "nbformat_minor": 2
}
