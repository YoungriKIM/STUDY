{
 "cells": [
  {
   "cell_type": "code",
   "execution_count": 2,
   "metadata": {},
   "outputs": [],
   "source": [
    "from selenium import webdriver\n",
    "from selenium.webdriver.chrome.service import Service\n",
    "from selenium.webdriver.chrome.options import Options\n",
    "from webdriver_manager.chrome import ChromeDriverManager # Chrome driver 자동 업데이트\n",
    "from selenium.webdriver.common.by import By # find element 사용\n",
    "from selenium.webdriver.common.keys import Keys\n",
    "from selenium.webdriver.support import expected_conditions as EC # 예외 상황 설정\n",
    "# from selenium.common.exceptions import NoSuchElementException\n",
    "\n",
    "chrome_options = Options()\n",
    "chrome_options.add_experimental_option(\"detach\", True) # 브라우저 꺼짐 방지\n",
    "chrome_options.add_experimental_option(\"useAutomationExtension\", False) # 관리자모드 실행 옵션\n",
    "chrome_options.add_experimental_option(\"excludeSwitches\", [\"enable-logging\"]) # 불필요한 에러메시지 노출 방지\n",
    "\n",
    "# Chrome driver Manager를 통해 크롬 드라이버 자동 설치\n",
    "service = Service(excutable_path=ChromeDriverManager().install()) "
   ]
  },
  {
   "cell_type": "code",
   "execution_count": 6,
   "metadata": {},
   "outputs": [],
   "source": [
    "# 페이지 열기\n",
    "google_url = \"https://www.google.com/\"\n",
    "driver = webdriver.Chrome(service=service, options = chrome_options)\n",
    "driver.implicitly_wait(5) # 대기\n",
    "driver.maximize_window() # 화면 최대화\n",
    "driver.get(google_url)\n",
    "\n",
    "# 키워드 검색\n",
    "search_keyword = \"푸바오\"\n",
    "search_box = driver.find_element(By.XPATH, \"/html/body/div[1]/div[3]/form/div[1]/div[1]/div[1]/div/div[2]/textarea\")\n",
    "search_box.send_keys(search_keyword)\n",
    "search_box.send_keys(Keys.RETURN)"
   ]
  },
  {
   "cell_type": "code",
   "execution_count": 8,
   "metadata": {},
   "outputs": [],
   "source": [
    "# 스크롤 n회 내리기\n",
    "\n",
    "def scroll_down_01(n):\n",
    "    for i in range(n):\n",
    "        driver.execute_script(\"window.scrollTo(0, document.body.scrollHeight);\")\n",
    "        driver.implicitly_wait(5)\n",
    "        \n",
    "def scroll_down_02(n):\n",
    "    scroll_actions = driver.find_element(By.CSS_SELECTOR, 'body')\n",
    "    for i in range(n):\n",
    "        scroll_actions.send_keys(Keys.END)\n",
    "        driver.implicitly_wait(5)\n",
    "        \n",
    "scroll_down_01(5)\n",
    "scroll_down_02(5)"
   ]
  }
 ],
 "metadata": {
  "kernelspec": {
   "display_name": "Python 3",
   "language": "python",
   "name": "python3"
  },
  "language_info": {
   "codemirror_mode": {
    "name": "ipython",
    "version": 3
   },
   "file_extension": ".py",
   "mimetype": "text/x-python",
   "name": "python",
   "nbconvert_exporter": "python",
   "pygments_lexer": "ipython3",
   "version": "3.8.0"
  }
 },
 "nbformat": 4,
 "nbformat_minor": 2
}
