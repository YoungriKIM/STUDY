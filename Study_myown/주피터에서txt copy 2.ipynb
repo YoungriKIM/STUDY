{
 "cells": [
  {
   "cell_type": "code",
   "execution_count": 1,
   "metadata": {},
   "outputs": [
    {
     "name": "stdout",
     "output_type": "stream",
     "text": [
      "여기서부터는 주피터에서 봐야지\n"
     ]
    }
   ],
   "source": [
    "import sys\n",
    "\n",
    "path = \"test5.txt\"\n",
    "temp = sys.stdout\n",
    "sys.stdout = open(path, 'w')\n",
    " # -----\n",
    "print('이 부분만 쓰고')\n",
    "# ------\n",
    "sys.stdout.close()\n",
    "sys.stdout = temp\n",
    "\n",
    "print('여기서부터는 주피터에서 봐야지')"
   ]
  }
 ],
 "metadata": {
  "interpreter": {
   "hash": "b18ecf447b39d25eae6a9ae9d5694327d58d99c869301a8afbbe0bb2ae2074bb"
  },
  "kernelspec": {
   "display_name": "Python 3.8.8 64-bit ('base': conda)",
   "language": "python",
   "name": "python3"
  },
  "language_info": {
   "codemirror_mode": {
    "name": "ipython",
    "version": 3
   },
   "file_extension": ".py",
   "mimetype": "text/x-python",
   "name": "python",
   "nbconvert_exporter": "python",
   "pygments_lexer": "ipython3",
   "version": "3.8.5"
  },
  "orig_nbformat": 4
 },
 "nbformat": 4,
 "nbformat_minor": 2
}
