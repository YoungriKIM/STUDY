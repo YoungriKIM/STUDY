{
 "cells": [
  {
   "cell_type": "code",
   "execution_count": 2,
   "metadata": {},
   "outputs": [],
   "source": [
    "# pip install selenium webdriver-manager"
   ]
  },
  {
   "cell_type": "code",
   "execution_count": 82,
   "metadata": {},
   "outputs": [],
   "source": [
    "url = \"https://blog.naver.com/hannaurora/223364934751\"\n",
    "pdf_path = 'D://STUDY//Study_myown//pdf_save//output.pdf'\n",
    "html_path = 'D://STUDY//Study_myown//pdf_save//webpage.html'"
   ]
  },
  {
   "cell_type": "code",
   "execution_count": 75,
   "metadata": {},
   "outputs": [
    {
     "name": "stdout",
     "output_type": "stream",
     "text": [
      "HTML 파일 생성 완료\n"
     ]
    }
   ],
   "source": [
    "from selenium import webdriver\n",
    "\n",
    "# 웹 드라이버 시작\n",
    "driver = webdriver.Chrome()\n",
    "\n",
    "# 웹페이지 URL\n",
    "url = \"https://blog.naver.com/hannaurora/223364934751\"\n",
    "\n",
    "# 웹페이지 열기\n",
    "driver.get(url)\n",
    "\n",
    "# 웹페이지의 전체 HTML 가져오기\n",
    "html_content = driver.page_source\n",
    "\n",
    "# 웹 드라이버 종료\n",
    "driver.quit()\n",
    "\n",
    "# HTML을 파일로 저장\n",
    "with open(html_path, \"w\", encoding=\"utf-8\") as f:\n",
    "    f.write(html_content)\n",
    "\n",
    "print(\"HTML 파일 생성 완료\")\n"
   ]
  },
  {
   "cell_type": "code",
   "execution_count": 80,
   "metadata": {},
   "outputs": [
    {
     "name": "stdout",
     "output_type": "stream",
     "text": [
      "PDF 파일 생성 완료\n"
     ]
    }
   ],
   "source": [
    "from xhtml2pdf import pisa\n",
    "\n",
    "# HTML 파일에서 내용을 읽어옵니다.\n",
    "with open(html_path, \"r\", encoding=\"utf-8\") as html_file:\n",
    "    html_content = html_file.read()\n",
    "    \n",
    "# HTML을 PDF로 변환하여 저장\n",
    "with open(pdf_path, \"wb\") as pdf_file:\n",
    "    pisa.CreatePDF(html_content, dest=pdf_file)\n",
    "    pdf_file.close()\n",
    "\n",
    "print(\"PDF 파일 생성 완료\")"
   ]
  },
  {
   "cell_type": "code",
   "execution_count": 85,
   "metadata": {},
   "outputs": [
    {
     "name": "stdout",
     "output_type": "stream",
     "text": [
      "PDF 파일 생성 완료\n"
     ]
    }
   ],
   "source": [
    "import pdfkit\n",
    "\n",
    "# 웹페이지 URL\n",
    "url = \"\"\n",
    "\n",
    "# wkhtmltopdf 실행 파일 경로 설정\n",
    "config = pdfkit.configuration(wkhtmltopdf='C:/Program Files/wkhtmltopdf/bin/wkhtmltopdf.exe')  # wkhtmltopdf 실행 파일의 실제 경로로 수정\n",
    "\n",
    "# 웹페이지를 PDF로 변환하여 저장\n",
    "pdfkit.from_url(url, pdf_path, configuration=config)\n",
    "\n",
    "print(\"PDF 파일 생성 완료\")"
   ]
  }
 ],
 "metadata": {
  "kernelspec": {
   "display_name": "base",
   "language": "python",
   "name": "python3"
  },
  "language_info": {
   "codemirror_mode": {
    "name": "ipython",
    "version": 3
   },
   "file_extension": ".py",
   "mimetype": "text/x-python",
   "name": "python",
   "nbconvert_exporter": "python",
   "pygments_lexer": "ipython3",
   "version": "3.8.8"
  }
 },
 "nbformat": 4,
 "nbformat_minor": 2
}
