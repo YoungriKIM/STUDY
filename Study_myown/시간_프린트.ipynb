{
 "cells": [
  {
   "cell_type": "code",
   "execution_count": 1,
   "metadata": {},
   "outputs": [
    {
     "name": "stdout",
     "output_type": "stream",
     "text": [
      "target_time: 10.010317087173462\n"
     ]
    }
   ],
   "source": [
    "import time\n",
    "\n",
    "start_time = time.time()\n",
    "time.sleep(10)\n",
    "target_time = time.time() - start_time\n",
    "print('target_time:', target_time)"
   ]
  },
  {
   "cell_type": "code",
   "execution_count": 2,
   "metadata": {},
   "outputs": [],
   "source": [
    "# 시간 컨버팅\n",
    "def convert_seconds(seconds):\n",
    "    millisecond = str(seconds).split('.')[-1][:4]\n",
    "    seconds = seconds % (24 * 3600)\n",
    "    hour = seconds // 3600\n",
    "    seconds %= 3600\n",
    "    minutes = seconds // 60\n",
    "    seconds %= 60\n",
    "    return \"%d:%02d:%02d\" % (hour, minutes, seconds) + '.' + millisecond"
   ]
  },
  {
   "cell_type": "code",
   "execution_count": 3,
   "metadata": {},
   "outputs": [
    {
     "name": "stdout",
     "output_type": "stream",
     "text": [
      "0:00:10.0103\n"
     ]
    }
   ],
   "source": [
    "print(convert_seconds(target_time))"
   ]
  }
 ],
 "metadata": {
  "interpreter": {
   "hash": "55a86b8750a4e8e8485af9e7bb1f393555b75c1a2600b0d9355b9fb6bee83bb5"
  },
  "kernelspec": {
   "display_name": "Python 3.6.8 ('yr_vits_3.6': venv)",
   "language": "python",
   "name": "python3"
  },
  "language_info": {
   "codemirror_mode": {
    "name": "ipython",
    "version": 3
   },
   "file_extension": ".py",
   "mimetype": "text/x-python",
   "name": "python",
   "nbconvert_exporter": "python",
   "pygments_lexer": "ipython3",
   "version": "3.6.8"
  },
  "orig_nbformat": 4
 },
 "nbformat": 4,
 "nbformat_minor": 2
}
