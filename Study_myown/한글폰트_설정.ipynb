{
 "cells": [
  {
   "cell_type": "code",
   "execution_count": null,
   "metadata": {},
   "outputs": [],
   "source": [
    "import matplotlib.pyplot as plt\n",
    "import matplotlib.font_manager as fm\n",
    "\n",
    "path = '/usr/share/fonts/D2Coding/D2Coding.ttf' # 한글폰트 경로 설정\n",
    "fontprop = fm.FontProperties(fname=path, size=12)\n",
    "\n",
    "plt.figure(figsize=(20,8))\n",
    "\n",
    "index = list(label_count.index)\n",
    "name = label_count.label_nm_ko.tolist()\n",
    "counting = label_count.lebel_count.tolist()\n",
    "\n",
    "plt.bar(index, counting)\n",
    "plt.xticks(index, name, rotation=90, fontproperties=fontprop)\n",
    "\n",
    "plt.show()"
   ]
  }
 ],
 "metadata": {
  "language_info": {
   "name": "python"
  },
  "orig_nbformat": 4
 },
 "nbformat": 4,
 "nbformat_minor": 2
}
