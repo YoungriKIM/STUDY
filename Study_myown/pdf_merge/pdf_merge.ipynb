{
 "cells": [
  {
   "cell_type": "code",
   "execution_count": 7,
   "metadata": {},
   "outputs": [],
   "source": [
    "# merge several pdf files into one pdf file\n",
    "from PyPDF2 import PdfMerger\n",
    "import os\n",
    "\n",
    "def pdf_merge(folderpath, new_file_name):\n",
    "    merger = PdfMerger()\n",
    "    for filename in os.listdir(folderpath):\n",
    "        if filename.endswith(\".pdf\"):\n",
    "            merger.append(folderpath + \"/\" + filename)\n",
    "    merger.write(folderpath + \"/\" + new_file_name)\n",
    "    merger.close()\n",
    "    print(\"Merged all pdf files into one pdf file\")\n",
    "    return"
   ]
  },
  {
   "cell_type": "code",
   "execution_count": 8,
   "metadata": {},
   "outputs": [],
   "source": [
    "folderpath = 'C:/Users/Desktop/pdf_folder/'\n",
    "new_file_name = 'new_merged_file.pdf'"
   ]
  },
  {
   "cell_type": "code",
   "execution_count": 9,
   "metadata": {},
   "outputs": [
    {
     "name": "stdout",
     "output_type": "stream",
     "text": [
      "Merged all pdf files into one pdf file\n"
     ]
    }
   ],
   "source": [
    "pdf_merge(folderpath, new_file_name)"
   ]
  }
 ],
 "metadata": {
  "kernelspec": {
   "display_name": "base",
   "language": "python",
   "name": "python3"
  },
  "language_info": {
   "codemirror_mode": {
    "name": "ipython",
    "version": 3
   },
   "file_extension": ".py",
   "mimetype": "text/x-python",
   "name": "python",
   "nbconvert_exporter": "python",
   "pygments_lexer": "ipython3",
   "version": "3.8.8"
  }
 },
 "nbformat": 4,
 "nbformat_minor": 2
}
