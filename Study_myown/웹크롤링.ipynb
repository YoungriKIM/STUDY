{
 "cells": [
  {
   "cell_type": "code",
   "execution_count": 153,
   "metadata": {},
   "outputs": [],
   "source": [
    "from selenium import webdriver\n",
    "from selenium.webdriver.chrome.service import Service\n",
    "from selenium.webdriver.chrome.options import Options\n",
    "from webdriver_manager.chrome import ChromeDriverManager # Chrome driver 자동 업데이트\n",
    "from selenium.webdriver.common.by import By # find element 사용\n",
    "from selenium.webdriver.common.keys import Keys\n",
    "from selenium.webdriver.support.ui import WebDriverWait # 대기 시간 설정\n",
    "from selenium.webdriver.support import expected_conditions as EC # 예외 상황 설정\n",
    "# from selenium.common.exceptions import NoSuchElementException\n",
    "import pandas as pd\n",
    "from tqdm import tqdm\n",
    "import os\n",
    "from urllib.request import urlretrieve\n",
    "import time\n",
    "\n",
    "chrome_options = Options()\n",
    "chrome_options.add_experimental_option(\"detach\", True) # 브라우저 꺼짐 방지\n",
    "chrome_options.add_experimental_option(\"useAutomationExtension\", False) # 관리자모드 실행 옵션\n",
    "chrome_options.add_experimental_option(\"excludeSwitches\", [\"enable-logging\"]) # 불필요한 에러메시지 노출 방지\n",
    "\n",
    "# Chrome driver Manager를 통해 크롬 드라이버 자동 설치\n",
    "service = Service(excutable_path=ChromeDriverManager().install()) "
   ]
  },
  {
   "cell_type": "markdown",
   "metadata": {},
   "source": [
    "### test_01 | 뉴스 제목, 링크, 본문"
   ]
  },
  {
   "cell_type": "code",
   "execution_count": 154,
   "metadata": {},
   "outputs": [
    {
     "name": "stderr",
     "output_type": "stream",
     "text": [
      "100%|██████████| 20/20 [00:10<00:00,  1.82it/s]\n"
     ]
    },
    {
     "name": "stdout",
     "output_type": "stream",
     "text": [
      "(20, 4)\n",
      "   number                                           title  \\\n",
      "0       0                        에스넷시스템-코난테크놀로지, AI 사업 협력   \n",
      "1       1                   인공지능 3D콘텐츠 제작 '코난보이스', 서비스 개편   \n",
      "2       2  과기정통부, 카카오ㆍLG 등 AI 기업과 만남…“민관 협력 글로벌 경쟁력 확보...   \n",
      "3       3   1위 폴라리스오피스 주가·2위 한글과컴퓨터 주가·3위 이스트소프트 주가, 3...   \n",
      "4       4  [#IT라운지] 알바몬 '대학가 알바 현황'·카카오같이가치 '매달기부'·딥브레...   \n",
      "\n",
      "                                                link  \\\n",
      "0  http://www.newsis.com/view/?id=NISX20240315_00...   \n",
      "1              https://www.etnews.com/20240312000169   \n",
      "2         https://www.etoday.co.kr/news/view/2337123   \n",
      "3            https://cwn.kr/article/1065571503822755   \n",
      "4  http://www.newsworks.co.kr/news/articleView.ht...   \n",
      "\n",
      "                                        news_contest  \n",
      "0  에스넷시스템이 코난테크놀로지와 인공지능(AI) 관련 사업 협력을 위한 업무협약(MO...  \n",
      "1  코난테크놀로지(대표 김영섬)의 인공지능 성우 '코난보이스'가 3D캐릭터를 활용한 콘...  \n",
      "2  이투데이=임유진 기자 | 과학기술정보통신부 강도현 제2차관은 5일 취임 후 첫 번째...  \n",
      "3  또 6위 디지캡 주가는 트렌드지수 3,250점, 7위 MDS테크 주가는 트렌드지수 ...  \n",
      "4  에스넷시스템이 코난테크놀로지와 업무협약(MOU)을 체결했고 네이버가 소상공인연합회와...  \n",
      "    number                            title  \\\n",
      "15      15          코난테크놀로지-사이냅소프트, AI사업 협력   \n",
      "16      16    코난테크놀로지, 여가부 아이돌봄 시스템 운영사업 계약   \n",
      "17      17     코난테크놀로지-SKT, AI 사업 협력 의지 드러내   \n",
      "18      18  코난테크놀로지, 지난해 영업손실 109억원…적자 폭 확대   \n",
      "19      19  코난테크놀로지, SK텔레콤과 생성 AI 사업 협력 구체화   \n",
      "\n",
      "                                                 link  \\\n",
      "15        https://zdnet.co.kr/view/?no=20240207094711   \n",
      "16   https://www.newspim.com/news/view/20240207001075   \n",
      "17  https://www.hellot.net/news/article.html?no=86300   \n",
      "18  http://www.edaily.co.kr/news/newspath.asp?news...   \n",
      "19  http://www.newsis.com/view/?id=NISX20240124_00...   \n",
      "\n",
      "                                         news_contest  \n",
      "15  인공지능 소프트웨어 전문기업 코난테크놀로지(대표 김영섬)는 디지털문서 SaaS 기업...  \n",
      "16  코난테크놀로지가 여성가족부의 '2024년 아이돌봄 시스템 운영 및 안정화' 사업 계...  \n",
      "17  생성형 AI, AI 비전, AICC, AI 데이터 등 AI 공동 사업 추진 인공지능...  \n",
      "18  코난테크놀로지(402030)는 ‘매출액 또는 손익구조 30% 이상 변동공시’를 통해...  \n",
      "19  인공지능(AI) 소프트웨어 전문기업 코난테크놀로지가 SK텔레콤과 AI 사업 및 기술...  \n"
     ]
    }
   ],
   "source": [
    "# 사이트 오픈\n",
    "naver_url = \"http://www.naver.com/\"\n",
    "driver = webdriver.Chrome(service=service, options = chrome_options)\n",
    "driver.implicitly_wait(5) # 대기\n",
    "driver.maximize_window() # 화면 최대화\n",
    "driver.get(naver_url)\n",
    "\n",
    "# 키워드 검색\n",
    "search_keyword = \"코난테크놀로지\"\n",
    "search_box = driver.find_element(By.XPATH, \"/html/body/div[2]/div[1]/div/div[3]/div[2]/div/form/fieldset/div/input\")\n",
    "search_box.send_keys(search_keyword)\n",
    "search_box.send_keys(Keys.RETURN)\n",
    "\n",
    "# 뉴스 탭 이동\n",
    "driver.find_element(By.XPATH, \"/html/body/div[3]/div[2]/div/div[1]/section[4]/div/div[3]\").click()\n",
    "driver.implicitly_wait(5)\n",
    "\n",
    "# 스크롤 n회 내리기\n",
    "def scroll_down(n):\n",
    "    scroll_actions = driver.find_element(By.CSS_SELECTOR, 'body')\n",
    "    for i in range(n):\n",
    "        scroll_actions.send_keys(Keys.END)\n",
    "        driver.implicitly_wait(5)\n",
    "scroll_down(30)\n",
    "\n",
    "# 데이터프레임에 n개 뉴스 정보 저장\n",
    "def crawling_news_list(n):\n",
    "    news_df = pd.DataFrame(columns=[\"number\", \"title\", \"link\", \"news_contest\"])\n",
    "    for i in tqdm(range(n)):\n",
    "        news_xpath_format = \"/html/body/div[3]/div[2]/div/div[1]/section/div[1]/div[2]/ul/li[{}]/div[1]/div/div[2]/a[2]\".format(i+1)\n",
    "        try:\n",
    "            news_title = driver.find_element(By.XPATH, news_xpath_format).text\n",
    "            news_link = driver.find_element(By.XPATH, news_xpath_format).get_attribute(\"href\")\n",
    "            news_content = driver.find_element(By.XPATH, \"/\".join(news_xpath_format.split('/')[:-1]) + \"/div/div/a\").text    \n",
    "        except: \n",
    "            news_xpath_format = \"/html/body/div[3]/div[2]/div/div[1]/section/div[1]/div[2]/ul/li[{}]/div[1]/div/div[2]/a\".format(i+1)\n",
    "            news_title = driver.find_element(By.XPATH, news_xpath_format).text\n",
    "            news_link = driver.find_element(By.XPATH, news_xpath_format).get_attribute(\"href\")\n",
    "            news_content = driver.find_element(By.XPATH, \"/\".join(news_xpath_format.split('/')[:-1]) + \"/div/div/a\").text  \n",
    "\n",
    "        # news_df 행에 차례대로 저장\n",
    "        news_df.loc[i] = [i, news_title, news_link, news_content]\n",
    "    return news_df\n",
    "news_df = crawling_news_list(20)\n",
    "print(news_df.shape, news_df.head(), news_df.tail(), sep = \"\\n\")\n",
    "\n",
    "# 크롬 창 종료\n",
    "driver.quit()"
   ]
  },
  {
   "cell_type": "markdown",
   "metadata": {},
   "source": [
    "### test_02 | 뉴스 이미지"
   ]
  },
  {
   "cell_type": "code",
   "execution_count": 26,
   "metadata": {},
   "outputs": [
    {
     "name": "stderr",
     "output_type": "stream",
     "text": [
      "100%|██████████| 10/10 [00:00<00:00, 50.97it/s]\n"
     ]
    },
    {
     "name": "stdout",
     "output_type": "stream",
     "text": [
      "10개 이미지 링크 확인\n"
     ]
    },
    {
     "name": "stderr",
     "output_type": "stream",
     "text": [
      "100%|██████████| 10/10 [00:03<00:00,  2.89it/s]\n"
     ]
    },
    {
     "name": "stdout",
     "output_type": "stream",
     "text": [
      "10개 이미지 저장\n"
     ]
    }
   ],
   "source": [
    "# 사이트 오픈\n",
    "naver_url = \"http://www.naver.com/\"\n",
    "driver = webdriver.Chrome(service=service, options = chrome_options)\n",
    "driver.implicitly_wait(5) # 대기\n",
    "driver.maximize_window() # 화면 최대화\n",
    "driver.get(naver_url)\n",
    "\n",
    "# 키워드 검색\n",
    "search_keyword = \"코난테크놀로지\"\n",
    "search_box = driver.find_element(By.XPATH, \"/html/body/div[2]/div[1]/div/div[3]/div[2]/div/form/fieldset/div/input\")\n",
    "search_box.send_keys(search_keyword)\n",
    "search_box.send_keys(Keys.RETURN)\n",
    "\n",
    "# 뉴스 탭 이동\n",
    "driver.find_element(By.XPATH, \"/html/body/div[3]/div[2]/div/div[1]/section[4]/div/div[3]\").click()\n",
    "driver.implicitly_wait(5)\n",
    "\n",
    "# 스크롤 n회 내리기\n",
    "def scroll_down(n):\n",
    "    scroll_actions = driver.find_element(By.CSS_SELECTOR, 'body')\n",
    "    for i in range(n):\n",
    "        scroll_actions.send_keys(Keys.END)\n",
    "        driver.implicitly_wait(5)\n",
    "scroll_down(30)\n",
    "\n",
    "# 썸네일 링크 n개 리스트 저장\n",
    "thumb_list = []\n",
    "for i in tqdm(range(1, 11)):\n",
    "    try: \n",
    "        thumnail_format = \"/html/body/div[3]/div[2]/div/div[1]/section/div[1]/div[2]/ul/li[{}]/div[1]/div/div[2]/a[1]/img\".format(i)\n",
    "        thumb_list.append(driver.find_element(By.XPATH, thumnail_format).get_attribute(\"src\"))\n",
    "    except: pass # 이미지가 없는 뉴스 패스\n",
    "print(f\"{len(thumb_list)}개 이미지 링크 확인\")\n",
    "\n",
    "# 이미지 저장 폴더 생성\n",
    "folder_path = os.path.join(os.getcwd(), '웹크롤링_뉴스이미지')\n",
    "if not os.path.exists(folder_path):\n",
    "    os.mkdir(folder_path)\n",
    "    \n",
    "# 이미지 저장\n",
    "cnt = 0\n",
    "for link in tqdm(thumb_list):\n",
    "    urlretrieve(link, folder_path + f\"\\{cnt}.jpg\")\n",
    "    cnt += 1\n",
    "    time.sleep(0.3)\n",
    "    \n",
    "# 이미지 저장한 폴더 안의 파일 개수 확인\n",
    "print(f\"{len(os.listdir(folder_path))}개 이미지 저장\")\n",
    "    \n",
    "# 크롬 창 종료\n",
    "driver.quit()"
   ]
  },
  {
   "cell_type": "markdown",
   "metadata": {},
   "source": [
    "### test_03 | 와챠피디아"
   ]
  },
  {
   "cell_type": "code",
   "execution_count": 155,
   "metadata": {},
   "outputs": [],
   "source": [
    "# 사이트 오픈\n",
    "target_url = \"https://pedia.watcha.com/ko-KR/?domain=movie\" \n",
    "driver = webdriver.Chrome(service=service, options = chrome_options)\n",
    "driver.implicitly_wait(5) # 대기\n",
    "driver.maximize_window() # 화면 최대화\n",
    "driver.get(target_url)"
   ]
  },
  {
   "cell_type": "code",
   "execution_count": 156,
   "metadata": {},
   "outputs": [
    {
     "name": "stderr",
     "output_type": "stream",
     "text": [
      "100%|██████████| 30/30 [01:27<00:00,  2.92s/it]\n"
     ]
    },
    {
     "name": "stdout",
     "output_type": "stream",
     "text": [
      "(30, 5)\n",
      "                 title                                             link rate  \\\n",
      "1                   파묘  https://pedia.watcha.com/ko-KR/contents/m53mNG2  3.5   \n",
      "2  극장판 스파이 패밀리 코드: 화이트  https://pedia.watcha.com/ko-KR/contents/m5Zllo6  미개봉   \n",
      "3               듄: 파트2  https://pedia.watcha.com/ko-KR/contents/mWvqG3e  4.2   \n",
      "4                 댓글부대  https://pedia.watcha.com/ko-KR/contents/m5x1xva  미개봉   \n",
      "5                탐정 말로  https://pedia.watcha.com/ko-KR/contents/mdMRRwy  미개봉   \n",
      "\n",
      "                                    poster  \\\n",
      "1  c:\\dqa\\테스트자동화_Selenium\\웹크롤링_영화이미지\\1.jpg   \n",
      "2  c:\\dqa\\테스트자동화_Selenium\\웹크롤링_영화이미지\\2.jpg   \n",
      "3  c:\\dqa\\테스트자동화_Selenium\\웹크롤링_영화이미지\\3.jpg   \n",
      "4  c:\\dqa\\테스트자동화_Selenium\\웹크롤링_영화이미지\\4.jpg   \n",
      "5  c:\\dqa\\테스트자동화_Selenium\\웹크롤링_영화이미지\\5.jpg   \n",
      "\n",
      "                                      reviews  \n",
      "1              [장재현만큼 공포 장르에 뚝심있는 한국 감독이 없다.]  \n",
      "2              [스파이 패밀리의 가족여행과 눈이 즐거운 쾌감 액션!]  \n",
      "3  [구원이 아닌 지배를 갈망하는 메시아의 잠재적 재앙. 선택은 곧 강압이다.]  \n",
      "4                            [김성철 손석규? 미쳣다🥹🥹]  \n",
      "5             [셜록 홈즈의 라이벌이라고 하던데 난 처음 알았음...]  \n",
      "                 title                                             link rate  \\\n",
      "26      인어공주: 마법물약의 비밀  https://pedia.watcha.com/ko-KR/contents/mWq1rzN  1.7   \n",
      "27                  돌핀  https://pedia.watcha.com/ko-KR/contents/mdj227a  2.5   \n",
      "28                건국전쟁  https://pedia.watcha.com/ko-KR/contents/mObVbM7  2.2   \n",
      "29              태양은 없다  https://pedia.watcha.com/ko-KR/contents/mdEwxgW  3.3   \n",
      "30  월레스와 그로밋 더 클래식 컬렉션  https://pedia.watcha.com/ko-KR/contents/m53mqkn  4.0   \n",
      "\n",
      "                                      poster  \\\n",
      "26  c:\\dqa\\테스트자동화_Selenium\\웹크롤링_영화이미지\\26.jpg   \n",
      "27  c:\\dqa\\테스트자동화_Selenium\\웹크롤링_영화이미지\\27.jpg   \n",
      "28  c:\\dqa\\테스트자동화_Selenium\\웹크롤링_영화이미지\\28.jpg   \n",
      "29  c:\\dqa\\테스트자동화_Selenium\\웹크롤링_영화이미지\\29.jpg   \n",
      "30  c:\\dqa\\테스트자동화_Selenium\\웹크롤링_영화이미지\\30.jpg   \n",
      "\n",
      "                                              reviews  \n",
      "26  [원작과는 살짝 달라진 버전이긴 하지만 그래도 나쁘지 않았다. 오히려 결말은 더 그...  \n",
      "27  [볼링이 주가 되는 영화일줄 알았더니 막상 볼링이 그렇게 큰 비중은 없네. 볼링공이...  \n",
      "28  [ㅋㅋㅋㅋㅋㅋㅋ 서울의봄 0.5 주고 이거 5점준 기록이 거의 다인 사람이 왜이리 ...  \n",
      "29  [동트기 전 새벽이 가장 어둡다고 한다\\n어둠에서 흔들리는 청춘\\n여전히 한국영화를...  \n",
      "30  [‘월레스와 그로밋 더 클래식 컬렉션’은 클레이 스톱모션 애니메이션의 명가 아드만 ...  \n"
     ]
    }
   ],
   "source": [
    "# 팝업 종료\n",
    "driver.find_element(By.XPATH, \"/html/body/div[1]/div/div[2]/div/div/div/div[2]/span[1]\").click()\n",
    "\n",
    "# 박스오피스 순위 30개 불러오기\n",
    "for i in range(6):\n",
    "    driver.find_element(By.XPATH, \"/html/body/div/div/div[1]/section/div/section/div[3]/section/div[2]/button\").click()\n",
    "    time.sleep(0.5)\n",
    "    \n",
    "# df 생성\n",
    "movie_df = pd.DataFrame(columns=['title', 'link', 'rate', 'poster', 'reviews'])\n",
    "# 이미지 저장 폴더 생성\n",
    "folder_path = os.path.join(os.getcwd(), '웹크롤링_영화이미지')\n",
    "if not os.path.exists(folder_path):\n",
    "    os.mkdir(folder_path)\n",
    "    \n",
    "# 30개 영화에 대한 정보 모으기\n",
    "for movie_cnt in tqdm(range(1, 31)):\n",
    "    # 상세 페이지 이동\n",
    "    driver.find_element(By.XPATH, f\"/html/body/div[1]/div/div[1]/section/div/section/div[3]/section/div[1]/ul/li[{movie_cnt}]\").click()\n",
    "    driver.implicitly_wait(5) # 대기\n",
    "\n",
    "    # 제목, 링크, 리뷰\n",
    "    title = driver.find_element(By.XPATH, \"/html/body/div[1]/div/div[1]/section/div/div[2]/div/div[1]/div/div[1]/div[4]/div/h1\").text\n",
    "    web_link = driver.current_url\n",
    "\n",
    "    # 평점 있으면 저장, 없을 경우 \"미개봉\"\n",
    "    try: rate = driver.find_element(By.XPATH, \"/html/body/div[1]/div/div[1]/section/div/div[2]/div/div[1]/div/div[2]/section[1]/div[2]/section[1]/div[2]/div/div[1]\").text\n",
    "    except: rate = \"미개봉\"\n",
    "\n",
    "    # 포스터 저장\n",
    "    poster_link = driver.find_element(By.XPATH, \"/html/body/div[1]/div/div[1]/section/div/div[2]/div/div[1]/div/div[2]/section[1]/div[1]/div/div/img\").get_attribute('src')\n",
    "    poeter_image_path = folder_path + f\"\\{movie_cnt}.jpg\"\n",
    "    urlretrieve(poster_link, poeter_image_path)\n",
    "\n",
    "    # 리뷰는 개수에 따라 저장\n",
    "    reviews_list = []\n",
    "    reviews_count = len(driver.find_elements(By.XPATH, \"/html/body/div[1]/div/div[1]/section/div/div[2]/div/div[2]/section[2]/ul/li\"))\n",
    "    for i in range(1, reviews_count+1):\n",
    "        review = driver.find_elements(By.XPATH, f\"/html/body/div[1]/div/div[1]/section/div/div[2]/div/div[2]/section[2]/ul/li[{i}]/div/div[2]/a/div/div\")[0].text\n",
    "    if len(review) > 0:\n",
    "        reviews_list.append(review)\n",
    "    else: \n",
    "        driver.find_element(By.XPATH, f\"/html/body/div[1]/div/div[1]/section/div/div[2]/div/div[2]/section[2]/ul/li[{i}]/div/div[2]/span/button\").click()\n",
    "        time.sleep(0.3)\n",
    "        review = driver.find_elements(By.XPATH, f\"/html/body/div[1]/div/div[1]/section/div/div[2]/div/div[2]/section[2]/ul/li[{i}]/div/div[2]/a/div/div\")[0].text\n",
    "        reviews_list.append(review)\n",
    "        \n",
    "    # df에 차례대로 저장\n",
    "    movie_df.loc[movie_cnt] = [title, web_link, rate, poeter_image_path, reviews_list]\n",
    "    time.sleep(0.3)\n",
    "    \n",
    "    # 뒤로가기\n",
    "    driver.back()\n",
    "\n",
    "# 크롬 창 종료\n",
    "driver.quit()\n",
    "\n",
    "print(movie_df.shape, movie_df.head(), movie_df.tail(), sep = \"\\n\")"
   ]
  },
  {
   "cell_type": "code",
   "execution_count": 150,
   "metadata": {},
   "outputs": [
    {
     "name": "stdout",
     "output_type": "stream",
     "text": [
      "(30, 5)\n",
      "                 title                                             link rate  \\\n",
      "1                   파묘  https://pedia.watcha.com/ko-KR/contents/m53mNG2  3.5   \n",
      "2  극장판 스파이 패밀리 코드: 화이트  https://pedia.watcha.com/ko-KR/contents/m5Zllo6  미개봉   \n",
      "3               듄: 파트2  https://pedia.watcha.com/ko-KR/contents/mWvqG3e  4.2   \n",
      "4                 댓글부대  https://pedia.watcha.com/ko-KR/contents/m5x1xva  미개봉   \n",
      "5                탐정 말로  https://pedia.watcha.com/ko-KR/contents/mdMRRwy  미개봉   \n",
      "\n",
      "                                    poster  \\\n",
      "1  c:\\dqa\\테스트자동화_Selenium\\웹크롤링_영화이미지\\1.jpg   \n",
      "2  c:\\dqa\\테스트자동화_Selenium\\웹크롤링_영화이미지\\2.jpg   \n",
      "3  c:\\dqa\\테스트자동화_Selenium\\웹크롤링_영화이미지\\3.jpg   \n",
      "4  c:\\dqa\\테스트자동화_Selenium\\웹크롤링_영화이미지\\4.jpg   \n",
      "5  c:\\dqa\\테스트자동화_Selenium\\웹크롤링_영화이미지\\5.jpg   \n",
      "\n",
      "                                      reviews  \n",
      "1              [장재현만큼 공포 장르에 뚝심있는 한국 감독이 없다.]  \n",
      "2              [스파이 패밀리의 가족여행과 눈이 즐거운 쾌감 액션!]  \n",
      "3  [구원이 아닌 지배를 갈망하는 메시아의 잠재적 재앙. 선택은 곧 강압이다.]  \n",
      "4                            [김성철 손석규? 미쳣다🥹🥹]  \n",
      "5             [셜록 홈즈의 라이벌이라고 하던데 난 처음 알았음...]  \n",
      "                 title                                             link rate  \\\n",
      "26      인어공주: 마법물약의 비밀  https://pedia.watcha.com/ko-KR/contents/mWq1rzN  1.7   \n",
      "27                  돌핀  https://pedia.watcha.com/ko-KR/contents/mdj227a  2.5   \n",
      "28                건국전쟁  https://pedia.watcha.com/ko-KR/contents/mObVbM7  2.2   \n",
      "29              태양은 없다  https://pedia.watcha.com/ko-KR/contents/mdEwxgW  3.3   \n",
      "30  월레스와 그로밋 더 클래식 컬렉션  https://pedia.watcha.com/ko-KR/contents/m53mqkn  4.0   \n",
      "\n",
      "                                      poster  \\\n",
      "26  c:\\dqa\\테스트자동화_Selenium\\웹크롤링_영화이미지\\26.jpg   \n",
      "27  c:\\dqa\\테스트자동화_Selenium\\웹크롤링_영화이미지\\27.jpg   \n",
      "28  c:\\dqa\\테스트자동화_Selenium\\웹크롤링_영화이미지\\28.jpg   \n",
      "29  c:\\dqa\\테스트자동화_Selenium\\웹크롤링_영화이미지\\29.jpg   \n",
      "30  c:\\dqa\\테스트자동화_Selenium\\웹크롤링_영화이미지\\30.jpg   \n",
      "\n",
      "                                              reviews  \n",
      "26  [원작과는 살짝 달라진 버전이긴 하지만 그래도 나쁘지 않았다. 오히려 결말은 더 그...  \n",
      "27  [볼링이 주가 되는 영화일줄 알았더니 막상 볼링이 그렇게 큰 비중은 없네. 볼링공이...  \n",
      "28  [ㅋㅋㅋㅋㅋㅋㅋ 서울의봄 0.5 주고 이거 5점준 기록이 거의 다인 사람이 왜이리 ...  \n",
      "29  [동트기 전 새벽이 가장 어둡다고 한다\\n어둠에서 흔들리는 청춘\\n여전히 한국영화를...  \n",
      "30  [‘월레스와 그로밋 더 클래식 컬렉션’은 클레이 스톱모션 애니메이션의 명가 아드만 ...  \n"
     ]
    }
   ],
   "source": [
    "print(movie_df.shape, movie_df.head(), movie_df.tail(), sep = \"\\n\")"
   ]
  }
 ],
 "metadata": {
  "kernelspec": {
   "display_name": "Python 3",
   "language": "python",
   "name": "python3"
  },
  "language_info": {
   "codemirror_mode": {
    "name": "ipython",
    "version": 3
   },
   "file_extension": ".py",
   "mimetype": "text/x-python",
   "name": "python",
   "nbconvert_exporter": "python",
   "pygments_lexer": "ipython3",
   "version": "3.8.0"
  }
 },
 "nbformat": 4,
 "nbformat_minor": 2
}
