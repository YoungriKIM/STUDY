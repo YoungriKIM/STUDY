{
 "cells": [
  {
   "cell_type": "code",
   "execution_count": 2,
   "metadata": {},
   "outputs": [],
   "source": [
    "# 품사 태깅으로 토큰화 (품사로 나눈 토큰화)\n",
    "from konlpy.tag import Kkma\n",
    "tokenizer = Kkma()\n",
    "from konlpy.tag import Okt, Kkma, Komoran\n",
    "okt = Okt()\n",
    "kkma = Kkma()\n",
    "komo = Komoran()"
   ]
  },
  {
   "cell_type": "code",
   "execution_count": 13,
   "metadata": {},
   "outputs": [],
   "source": [
    "test_sentence = '원피스 4기 틀어줘'"
   ]
  },
  {
   "cell_type": "code",
   "execution_count": 14,
   "metadata": {},
   "outputs": [
    {
     "data": {
      "text/plain": [
       "[('원피스', 'NNG'),\n",
       " ('4', 'NR'),\n",
       " ('기', 'NNM'),\n",
       " ('튿', 'VV'),\n",
       " ('어', 'ECD'),\n",
       " ('주', 'VXV'),\n",
       " ('어', 'ECS')]"
      ]
     },
     "execution_count": 14,
     "metadata": {},
     "output_type": "execute_result"
    }
   ],
   "source": [
    "komo.pos(test_sentence)"
   ]
  },
  {
   "cell_type": "code",
   "execution_count": null,
   "metadata": {},
   "outputs": [],
   "source": []
  }
 ],
 "metadata": {
  "kernelspec": {
   "display_name": "chch",
   "language": "python",
   "name": "python3"
  },
  "language_info": {
   "codemirror_mode": {
    "name": "ipython",
    "version": 3
   },
   "file_extension": ".py",
   "mimetype": "text/x-python",
   "name": "python",
   "nbconvert_exporter": "python",
   "pygments_lexer": "ipython3",
   "version": "3.8.5"
  },
  "orig_nbformat": 4,
  "vscode": {
   "interpreter": {
    "hash": "893bda42247957747ece576b08c9f067f644900cb9ca6d9e86686135646d3bb5"
   }
  }
 },
 "nbformat": 4,
 "nbformat_minor": 2
}
