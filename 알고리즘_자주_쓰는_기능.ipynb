{
  "nbformat": 4,
  "nbformat_minor": 0,
  "metadata": {
    "accelerator": "GPU",
    "colab": {
      "name": "알고리즘 자주 쓰는 기능",
      "provenance": [],
      "collapsed_sections": [],
      "machine_shape": "hm",
      "mount_file_id": "18k8uH7hj7_nbMek-wgHMrJ5w27Ovy471",
      "authorship_tag": "ABX9TyOImFgS9gbUJ/OQuYau6OT6"
    },
    "kernelspec": {
      "display_name": "Python 3",
      "name": "python3"
    }
  },
  "cells": [
    {
      "cell_type": "markdown",
      "metadata": {
        "id": "-Wl888Pbr-pi"
      },
      "source": [
        "- sorted 정렬\n",
        "answer = sorted(strings, key=lambda x: x[n])\n",
        "key 를 기준으로 정렬한다\n",
        "\n",
        "- isalpha()\n",
        "알파벳인지 확인하는 코드\n",
        "\n",
        "- isdigit()\n",
        "숫자인지 확인하는 코드\n",
        "\n",
        "- isupper()\n",
        "대문자 확인 코드\n",
        "\n",
        "- islower()\n",
        "소문자 확인 코드\n",
        "\n",
        "- upper()\n",
        "대문자 변경\n",
        "\n",
        "- lower()\n",
        "소문자 변경\n",
        "\n",
        "- index()\n",
        "리스트에서 값을 찾아주는 코드\n",
        "인덱스 번호를 뽑아준다\n",
        "\n",
        "- find()\n",
        "문자에서 값이 있는 것을 찾아준다\n",
        "인덱스 번호 뽑아준다\n",
        "없으면 -1 출력\n",
        "\n",
        "- sorted(dic, key=lambda x:dic[x], reverse =True)\n",
        "딕셔너리 벨류값으로 정리하고 키 값으로 뽑아주는 코드\n",
        "\n",
        "- stages.count(num)\n",
        "리스트 안에 중복 값이 얼마 있는지 알려주는 코드\n",
        "\n",
        "- abs(x)\n",
        "절대값 하기\n",
        "\n",
        "- set()\n",
        "리스트 형식에서 set 형태로 변경\n",
        "set은 중복 허용 x\n",
        "중복 있으면 중복을 제거하고 만들어 준다\n",
        "\n",
        "    a, b = map(int, sys.stdin.readline().split())\n",
        "\n",
        "### from itertools\n",
        "- permutations : 순열(조합의 여러개)\n",
        "- combinations : 조합(가능한 짝)\n",
        "- product : 순열(중복도 뽑는다)\n",
        "- combinations_with_replacement : 조합(중복도 뽑는다)"
      ]
    }
  ]
}