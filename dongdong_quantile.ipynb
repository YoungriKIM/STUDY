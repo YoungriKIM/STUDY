{
  "nbformat": 4,
  "nbformat_minor": 0,
  "metadata": {
    "colab": {
      "name": "dongdong_quantile",
      "provenance": [],
      "collapsed_sections": [],
      "authorship_tag": "ABX9TyN+X6pYDu/CHycJNIj7o3i/",
      "include_colab_link": true
    },
    "kernelspec": {
      "name": "python3",
      "display_name": "Python 3"
    }
  },
  "cells": [
    {
      "cell_type": "markdown",
      "metadata": {
        "id": "view-in-github",
        "colab_type": "text"
      },
      "source": [
        "<a href=\"https://colab.research.google.com/github/YoungriKIM/STUDY/blob/github/dongdong_quantile.ipynb\" target=\"_parent\"><img src=\"https://colab.research.google.com/assets/colab-badge.svg\" alt=\"Open In Colab\"/></a>"
      ]
    },
    {
      "cell_type": "code",
      "metadata": {
        "id": "OH16U-Rt6OAI"
      },
      "source": [
        "import numpy as np\r\n",
        "import pandas as pd\r\n",
        "\r\n",
        "\r\n",
        "# from google.colab import drive\r\n",
        "# drive.mount('/content/drive')\r\n",
        "\r\n",
        "x = []\r\n",
        "for i in range(1,9):\r\n",
        "    df = pd.read_csv(f'/content/drive/MyDrive/colab_data/dacon1/dongdong/dong_{i}.csv', index_col=0, header=0)\r\n",
        "    data = df.to_numpy()\r\n",
        "    x.append(data)\r\n",
        "\r\n",
        "x = np.array(x)\r\n",
        "\r\n",
        "df = pd.read_csv(f'/content/drive/MyDrive/colab_data/dacon1/dongdong/dong_{i}.csv', index_col=0, header=0)\r\n",
        "for i in range(7776):\r\n",
        "    for j in range(9):\r\n",
        "        a = []\r\n",
        "        for k in range(5):\r\n",
        "            a.append(x[k,i,j].astype('float32'))\r\n",
        "        a = np.array(a)\r\n",
        "        df.iloc[[i],[j]] = (pd.DataFrame(a).astype('float32').quantile(0.5,axis = 0)[0]).astype('float32')\r\n",
        "        \r\n",
        "y = pd.DataFrame(df, index = None, columns = None)\r\n",
        "y.to_csv('/content/drive/MyDrive/colab_data/dacon1/dongdong/result_3.csv') \r\n"
      ],
      "execution_count": 14,
      "outputs": []
    }
  ]
}