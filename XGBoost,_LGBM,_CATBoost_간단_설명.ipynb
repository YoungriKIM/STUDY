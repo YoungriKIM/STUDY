{
  "nbformat": 4,
  "nbformat_minor": 0,
  "metadata": {
    "accelerator": "GPU",
    "colab": {
      "name": "XGBoost, LGBM, CATBoost 간단 설명",
      "provenance": [],
      "collapsed_sections": [],
      "machine_shape": "hm",
      "mount_file_id": "18k8uH7hj7_nbMek-wgHMrJ5w27Ovy471",
      "authorship_tag": "ABX9TyMl2NMF6dXvpRpe1s9hCDkT"
    },
    "kernelspec": {
      "display_name": "Python 3",
      "name": "python3"
    }
  },
  "cells": [
    {
      "cell_type": "markdown",
      "metadata": {
        "id": "-Wl888Pbr-pi"
      },
      "source": [
        "XGBoost\n",
        "- 병렬처리를 해 속도가 빠르다\n",
        "- 가지치기를 한다. : XGBoost는 criterion first 방식 대신 max-depth를 지정해 depth-first 방식을 사용한다\n",
        "\n",
        "LGBM\n",
        "- GOSS(Gradient-based One-Side Sampling)방식을 사용한다.\n",
        "- 균형 트리 분할이 아닌 leaf-wise(리프 중심 트리 분할)을 진행한다. 이는 트리가 깊어지면서 소요되는 시간을 줄여준다.\n",
        "- 다 과적함이 일어날 가능성이 크다는 단점\n",
        "\n",
        "CatBoost\n",
        "-적은 데이터셋에서도 강하다\n",
        "- ategory features를 사용하기 위해서는 One-Hot-Encoding등 데이터를 전처리할 필요가 있었지만 Catboost에서는 사용자가 다른 작업을 하지 않아도 자동으로 이를 변환하여 사용한다.\n",
        "- 제한된 클러스터 수로 원핫인코딩을 적용함\n",
        "- ordering boosting(순서형 부스팅)을 사용"
      ]
    }
  ]
}